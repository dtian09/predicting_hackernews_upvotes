{
 "cells": [
  {
   "cell_type": "code",
   "execution_count": 1,
   "metadata": {},
   "outputs": [
    {
     "name": "stdout",
     "output_type": "stream",
     "text": [
      "        id                                              title  \\\n",
      "0  5800081  Huge Asteroid Makes Its Closest Pass To Earth ...   \n",
      "1  1550083                                BeautyLeg,Sexy Legs   \n",
      "2  1550094               Http://zcampuz.nab.su/Tool.html?8543   \n",
      "3   350096         The Ten Web Clips That Shaped The Election   \n",
      "4  3650012                Tax rate on the rich used to be 94%   \n",
      "\n",
      "                                                 url  score  \\\n",
      "0  http://www.npr.org/blogs/thetwo-way/2013/05/31...      5   \n",
      "1  http://7890.us/asian/lifestyle-fitness/life/su...      1   \n",
      "2              http://zcampuz.nab.su/Tool.html?8543=      1   \n",
      "3  http://www.alleyinsider.com/2008/10/the-ten-we...      1   \n",
      "4  http://toomuchonline.org/the-tax-that-turned-r...      1   \n",
      "\n",
      "                 time user_posted  user_karma  \n",
      "0 2013-05-31 18:50:09    codegeek       14690  \n",
      "1 2010-07-27 03:43:35     adcseta           1  \n",
      "2 2010-07-27 03:51:46   arulblack           1  \n",
      "3 2008-10-31 16:59:05   fromedome        2122  \n",
      "4 2012-02-29 22:23:09       pilom        3076  \n"
     ]
    }
   ],
   "source": [
    "import pandas as pd\n",
    "from sqlalchemy import create_engine\n",
    "import os\n",
    "from dotenv import load_dotenv\n",
    "\n",
    "# Load environment variables from .env file\n",
    "load_dotenv()\n",
    "\n",
    "# Get the database URL from environment variable\n",
    "DATABASE_URL = os.getenv('DATABASE_URL')\n",
    "\n",
    "# Flag user to create a .env file with the DATABASE_URL variable if not already present\n",
    "if not DATABASE_URL:\n",
    "    raise ValueError(\"DATABASE_URL environment variable is not set\")\n",
    "\n",
    "# Create the SQLAlchemy engine\n",
    "engine = create_engine(DATABASE_URL)\n",
    "\n",
    "# Define the query\n",
    "query = \"\"\"\n",
    "SELECT \n",
    "\thacker_news.items.id, \n",
    "\ttitle,\n",
    "\turl,\n",
    "\tscore,\n",
    "\ttime,\n",
    "\tby as \"user_posted\",\n",
    "\tkarma as \"user_karma\"\n",
    "FROM hacker_news.items TABLESAMPLE SYSTEM (1)\n",
    "inner join hacker_news.users on hacker_news.users.id = hacker_news.items.by  \n",
    "WHERE type = 'story'\n",
    "\"\"\"\n",
    "\n",
    "# Load into a DataFrame\n",
    "df = pd.read_sql(query, engine)\n",
    "\n",
    "# Optionally save to a CSV file\n",
    "#df.to_csv(\"hn_sample.csv\", index=False)\n",
    "df.to_parquet(\"hn_sample.parquet\", index=False)\n",
    "\n",
    "print(df.head())\n"
   ]
  },
  {
   "cell_type": "code",
   "execution_count": null,
   "metadata": {},
   "outputs": [],
   "source": []
  }
 ],
 "metadata": {
  "kernelspec": {
   "display_name": ".venv",
   "language": "python",
   "name": "python3"
  },
  "language_info": {
   "codemirror_mode": {
    "name": "ipython",
    "version": 3
   },
   "file_extension": ".py",
   "mimetype": "text/x-python",
   "name": "python",
   "nbconvert_exporter": "python",
   "pygments_lexer": "ipython3",
   "version": "3.11.6"
  }
 },
 "nbformat": 4,
 "nbformat_minor": 2
}
