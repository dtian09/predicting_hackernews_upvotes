{
 "cells": [
  {
   "cell_type": "markdown",
   "metadata": {},
   "source": [
    "\n",
    "### In this section, we are building a tokenizer. To do that, we want to:\n",
    "\n",
    "    - create a list of words by spliting text by whitespace\n",
    "    - make all words lower case\n",
    "    - filter out rare words, that occurred less than N times in the corpus\n",
    "    - setting the vocab length to the total number of unique words\n"
   ]
  },
  {
   "cell_type": "code",
   "execution_count": 23,
   "metadata": {},
   "outputs": [],
   "source": [
    "from collections import Counter\n",
    "import re\n",
    "\n",
    "file_path = \"../data/wiki_text_data.txt\"\n",
    "\n",
    "with open(file_path, \"r\") as file:\n",
    "    text = file.read()\n",
    "\n",
    "def create_tokenizer(text):\n",
    "    # split the string into a list of words by whitespace and remove punctuation\n",
    "    text_no_punctuation = re.sub(r'[^\\w\\s]', ' ', text)\n",
    "    list_of_words = text_no_punctuation.split()\n",
    "\n",
    "    # lower case the words\n",
    "    lower_case_words = [word.lower() for word in list_of_words]\n",
    "\n",
    "    # get the unique words using set list\n",
    "    unique_words = set(lower_case_words)\n",
    "\n",
    "    # this is much faster than the dictionary comprehension with count()\n",
    "    all_word_counts = Counter(lower_case_words)\n",
    "\n",
    "    # Build the vocabulary\n",
    "    # filter to only include words that appear at least N times\n",
    "    N = 5  # minimum frequency threshold\n",
    "    unique_word_counts = {word: count for word, count in all_word_counts.items() if count >= N}\n",
    "\n",
    "    print('Number of words included in word count before filtering: ', len(all_word_counts))\n",
    "    print('Number of words included in word count after filtering: ', len(unique_word_counts))\n",
    "\n",
    "\n",
    "    # set vocabulary length to the total number of unique words\n",
    "    vocab_length = len(unique_word_counts)\n",
    "\n",
    "    # create a corpus of words that are in the vocabulary\n",
    "    corpus = [word for word in lower_case_words if word in unique_word_counts]\n",
    "\n",
    "    # create a word to id mapping with the length of ids being the vocab length\n",
    "    word_to_id = {word: i for i, word in enumerate(unique_word_counts.keys())}\n",
    "\n",
    "    # create a id to word mapping with the length of ids being the vocab length\n",
    "    id_to_word = {i: word for i, word in enumerate(unique_word_counts.keys())}\n",
    "\n",
    "    return word_to_id, id_to_word, corpus\n",
    "\n",
    "\n",
    "\n",
    "\n"
   ]
  },
  {
   "cell_type": "code",
   "execution_count": 25,
   "metadata": {},
   "outputs": [
    {
     "name": "stdout",
     "output_type": "stream",
     "text": [
      "Number of words included in word count before filtering:  253854\n",
      "Number of words included in word count after filtering:  71290\n"
     ]
    }
   ],
   "source": [
    "# Check the function is working\n",
    "word_to_id, id_to_word, corpus = create_tokenizer(text)"
   ]
  },
  {
   "cell_type": "code",
   "execution_count": 32,
   "metadata": {},
   "outputs": [],
   "source": [
    "# Function to test the tokenizer with a custom sentence\n",
    "def tokenize(sentence, word_to_id, id_to_word):\n",
    "    # Clean the sentence the same way as in the tokenizer\n",
    "    sentence_no_punctuation = re.sub(r'[^\\w\\s]', ' ', sentence)\n",
    "    words = sentence_no_punctuation.lower().split()\n",
    "    \n",
    "    # Get word IDs for each word in the sentence\n",
    "    word_ids = []\n",
    "    \n",
    "    for word in words:\n",
    "        if word in word_to_id:\n",
    "            word_ids.append(word_to_id[word])\n",
    "    \n",
    "    # Print results\n",
    "    print(f\"Original sentence: '{sentence}'\")\n",
    "    print(f\"Words and their IDs: {[(word, word_to_id[word]) for word in words if word in word_to_id]}\")\n",
    "\n",
    "    return word_ids"
   ]
  },
  {
   "cell_type": "code",
   "execution_count": 33,
   "metadata": {},
   "outputs": [
    {
     "name": "stdout",
     "output_type": "stream",
     "text": [
      "Original sentence: 'What is the meaning of anarchism?'\n",
      "Words and their IDs: [('what', 73), ('is', 24), ('the', 15), ('meaning', 1953), ('of', 5), ('anarchism', 0)]\n"
     ]
    },
    {
     "data": {
      "text/plain": [
       "[73, 24, 15, 1953, 5, 0]"
      ]
     },
     "execution_count": 33,
     "metadata": {},
     "output_type": "execute_result"
    }
   ],
   "source": [
    "# Test the usage\n",
    "test_sentence = \"What is the meaning of anarchism?\"\n",
    "tokenize(test_sentence, word_to_id, id_to_word)"
   ]
  },
  {
   "cell_type": "code",
   "execution_count": null,
   "metadata": {},
   "outputs": [],
   "source": []
  }
 ],
 "metadata": {
  "kernelspec": {
   "display_name": ".venv",
   "language": "python",
   "name": "python3"
  },
  "language_info": {
   "codemirror_mode": {
    "name": "ipython",
    "version": 3
   },
   "file_extension": ".py",
   "mimetype": "text/x-python",
   "name": "python",
   "nbconvert_exporter": "python",
   "pygments_lexer": "ipython3",
   "version": "3.11.6"
  }
 },
 "nbformat": 4,
 "nbformat_minor": 2
}
