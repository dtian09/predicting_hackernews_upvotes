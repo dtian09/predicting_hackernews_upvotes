{
 "cells": [
  {
   "cell_type": "markdown",
   "metadata": {
    "vscode": {
     "languageId": "plaintext"
    }
   },
   "source": [
    "### Download the embeddings from wandb"
   ]
  },
  {
   "cell_type": "code",
   "execution_count": null,
   "metadata": {},
   "outputs": [
    {
     "data": {
      "text/html": [],
      "text/plain": [
       "<IPython.core.display.HTML object>"
      ]
     },
     "metadata": {},
     "output_type": "display_data"
    },
    {
     "data": {
      "text/html": [
       " View run <strong style=\"color:#cdcd00\">fiery-microwave-7</strong> at: <a href='https://wandb.ai/bryars-bryars/predicting_hackernews_upvotes-notebooks/runs/hr1ws069' target=\"_blank\">https://wandb.ai/bryars-bryars/predicting_hackernews_upvotes-notebooks/runs/hr1ws069</a><br> View project at: <a href='https://wandb.ai/bryars-bryars/predicting_hackernews_upvotes-notebooks' target=\"_blank\">https://wandb.ai/bryars-bryars/predicting_hackernews_upvotes-notebooks</a><br>Synced 5 W&B file(s), 0 media file(s), 0 artifact file(s) and 0 other file(s)"
      ],
      "text/plain": [
       "<IPython.core.display.HTML object>"
      ]
     },
     "metadata": {},
     "output_type": "display_data"
    },
    {
     "data": {
      "text/html": [
       "Find logs at: <code>./wandb/run-20250418_095835-hr1ws069/logs</code>"
      ],
      "text/plain": [
       "<IPython.core.display.HTML object>"
      ]
     },
     "metadata": {},
     "output_type": "display_data"
    },
    {
     "data": {
      "text/html": [
       "Tracking run with wandb version 0.19.9"
      ],
      "text/plain": [
       "<IPython.core.display.HTML object>"
      ]
     },
     "metadata": {},
     "output_type": "display_data"
    },
    {
     "data": {
      "text/html": [
       "Run data is saved locally in <code>/root/predicting_hackernews_upvotes/notebooks/wandb/run-20250418_100104-psri9jt6</code>"
      ],
      "text/plain": [
       "<IPython.core.display.HTML object>"
      ]
     },
     "metadata": {},
     "output_type": "display_data"
    },
    {
     "data": {
      "text/html": [
       "Syncing run <strong><a href='https://wandb.ai/bryars-bryars/predicting_hackernews_upvotes-notebooks/runs/psri9jt6' target=\"_blank\">genial-frog-8</a></strong> to <a href='https://wandb.ai/bryars-bryars/predicting_hackernews_upvotes-notebooks' target=\"_blank\">Weights & Biases</a> (<a href='https://wandb.me/developer-guide' target=\"_blank\">docs</a>)<br>"
      ],
      "text/plain": [
       "<IPython.core.display.HTML object>"
      ]
     },
     "metadata": {},
     "output_type": "display_data"
    },
    {
     "data": {
      "text/html": [
       " View project at <a href='https://wandb.ai/bryars-bryars/predicting_hackernews_upvotes-notebooks' target=\"_blank\">https://wandb.ai/bryars-bryars/predicting_hackernews_upvotes-notebooks</a>"
      ],
      "text/plain": [
       "<IPython.core.display.HTML object>"
      ]
     },
     "metadata": {},
     "output_type": "display_data"
    },
    {
     "data": {
      "text/html": [
       " View run at <a href='https://wandb.ai/bryars-bryars/predicting_hackernews_upvotes-notebooks/runs/psri9jt6' target=\"_blank\">https://wandb.ai/bryars-bryars/predicting_hackernews_upvotes-notebooks/runs/psri9jt6</a>"
      ],
      "text/plain": [
       "<IPython.core.display.HTML object>"
      ]
     },
     "metadata": {},
     "output_type": "display_data"
    },
    {
     "name": "stderr",
     "output_type": "stream",
     "text": [
      "\u001b[34m\u001b[1mwandb\u001b[0m:   1 of 1 files downloaded.  \n",
      "\u001b[34m\u001b[1mwandb\u001b[0m:   1 of 1 files downloaded.  \n"
     ]
    },
    {
     "name": "stdout",
     "output_type": "stream",
     "text": [
      "Embeddings downloaded to: temp_data/embeddings\n",
      "Model weights downloaded to: temp_data/model_weights\n"
     ]
    }
   ],
   "source": [
    "import wandb\n",
    "run = wandb.init()\n",
    "# Use the embeddings artifact\n",
    "embeddings_artifact = run.use_artifact('bryars-bryars/cbow-wiki/embeddings:v4', type='embeddings')\n",
    "embeddings_dir = embeddings_artifact.download(root='temp_data')\n",
    "\n",
    "# Use the model weights artifact\n",
    "model_artifact = run.use_artifact('bryars-bryars/cbow-wiki/model-weights:v6', type='model')\n",
    "model_dir = model_artifact.download(root='temp_data')\n",
    "\n",
    "# Now you have both directories\n",
    "print(f\"Embeddings downloaded to: {embeddings_dir}\")\n",
    "print(f\"Model weights downloaded to: {model_dir}\")"
   ]
  },
  {
   "cell_type": "code",
   "execution_count": 1,
   "metadata": {},
   "outputs": [],
   "source": [
    "import torch\n",
    "from eve_models import CBOW"
   ]
  },
  {
   "cell_type": "code",
   "execution_count": null,
   "metadata": {},
   "outputs": [],
   "source": [
    "# Load CBOW model\n",
    "cbow = CBOW(vocab_size=30000, embedding_dim=200)\n",
    "cbow.load_state_dict(torch.load(f\"{artifact_dir}/model-weights:v6/cbow_epoch5_2025_04_17__15_28_43.pt\"))\n",
    "cbow.eval()\n",
    "\n",
    "# Load embeddings if needed\n",
    "cbow.embedding.weight.data = torch.load(f\"{artifact_dir}/embeddings:v4/embeddings_epoch5_2025_04_17__15_28_43.pt\")\n",
    "\n",
    "# Setup regressor\n",
    "mReg = Regressor(embedding_dim=128)\n",
    "optimizer = torch.optim.Adam(mReg.parameters(), lr=0.005)\n",
    "\n",
    "# Training loop\n",
    "for i in range(100):\n",
    "    trg = torch.tensor([[125.]], dtype=torch.float32)\n",
    "    ipt = torch.tensor([[45, 27, 45367, 456]])\n",
    "\n",
    "    with torch.no_grad():\n",
    "        emb = cbow.embedding(ipt).mean(dim=1)\n",
    "\n",
    "    out = mReg(emb)\n",
    "    loss = torch.nn.functional.l1_loss(out, trg)\n",
    "\n",
    "    loss.backward()\n",
    "    optimizer.step()\n",
    "    optimizer.zero_grad()\n",
    "\n",
    "    wandb.log({'regression_loss': loss.item()})\n",
    "    print(f\"Step {i}: Loss = {loss.item():.4f}\")\n"
   ]
  }
 ],
 "metadata": {
  "kernelspec": {
   "display_name": ".venv",
   "language": "python",
   "name": "python3"
  },
  "language_info": {
   "codemirror_mode": {
    "name": "ipython",
    "version": 3
   },
   "file_extension": ".py",
   "mimetype": "text/x-python",
   "name": "python",
   "nbconvert_exporter": "python",
   "pygments_lexer": "ipython3",
   "version": "3.10.12"
  }
 },
 "nbformat": 4,
 "nbformat_minor": 2
}
