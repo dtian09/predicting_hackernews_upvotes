{
 "cells": [
  {
   "cell_type": "markdown",
   "metadata": {
    "vscode": {
     "languageId": "plaintext"
    }
   },
   "source": [
    "### Download the embeddings from wandb"
   ]
  },
  {
   "cell_type": "code",
   "execution_count": 3,
   "metadata": {},
   "outputs": [
    {
     "data": {
      "text/html": [],
      "text/plain": [
       "<IPython.core.display.HTML object>"
      ]
     },
     "metadata": {},
     "output_type": "display_data"
    },
    {
     "data": {
      "text/html": [
       " View run <strong style=\"color:#cdcd00\">lilac-breeze-2</strong> at: <a href='https://wandb.ai/bryars-bryars/predicting_hackernews_upvotes-notebooks/runs/kraex2tm' target=\"_blank\">https://wandb.ai/bryars-bryars/predicting_hackernews_upvotes-notebooks/runs/kraex2tm</a><br> View project at: <a href='https://wandb.ai/bryars-bryars/predicting_hackernews_upvotes-notebooks' target=\"_blank\">https://wandb.ai/bryars-bryars/predicting_hackernews_upvotes-notebooks</a><br>Synced 5 W&B file(s), 0 media file(s), 0 artifact file(s) and 0 other file(s)"
      ],
      "text/plain": [
       "<IPython.core.display.HTML object>"
      ]
     },
     "metadata": {},
     "output_type": "display_data"
    },
    {
     "data": {
      "text/html": [
       "Find logs at: <code>./wandb/run-20250417_162931-kraex2tm/logs</code>"
      ],
      "text/plain": [
       "<IPython.core.display.HTML object>"
      ]
     },
     "metadata": {},
     "output_type": "display_data"
    },
    {
     "data": {
      "text/html": [
       "Tracking run with wandb version 0.19.9"
      ],
      "text/plain": [
       "<IPython.core.display.HTML object>"
      ]
     },
     "metadata": {},
     "output_type": "display_data"
    },
    {
     "data": {
      "text/html": [
       "Run data is saved locally in <code>/root/predicting_hackernews_upvotes/notebooks/wandb/run-20250417_164308-ndz3g494</code>"
      ],
      "text/plain": [
       "<IPython.core.display.HTML object>"
      ]
     },
     "metadata": {},
     "output_type": "display_data"
    },
    {
     "data": {
      "text/html": [
       "Syncing run <strong><a href='https://wandb.ai/bryars-bryars/predicting_hackernews_upvotes-notebooks/runs/ndz3g494' target=\"_blank\">avid-water-3</a></strong> to <a href='https://wandb.ai/bryars-bryars/predicting_hackernews_upvotes-notebooks' target=\"_blank\">Weights & Biases</a> (<a href='https://wandb.me/developer-guide' target=\"_blank\">docs</a>)<br>"
      ],
      "text/plain": [
       "<IPython.core.display.HTML object>"
      ]
     },
     "metadata": {},
     "output_type": "display_data"
    },
    {
     "data": {
      "text/html": [
       " View project at <a href='https://wandb.ai/bryars-bryars/predicting_hackernews_upvotes-notebooks' target=\"_blank\">https://wandb.ai/bryars-bryars/predicting_hackernews_upvotes-notebooks</a>"
      ],
      "text/plain": [
       "<IPython.core.display.HTML object>"
      ]
     },
     "metadata": {},
     "output_type": "display_data"
    },
    {
     "data": {
      "text/html": [
       " View run at <a href='https://wandb.ai/bryars-bryars/predicting_hackernews_upvotes-notebooks/runs/ndz3g494' target=\"_blank\">https://wandb.ai/bryars-bryars/predicting_hackernews_upvotes-notebooks/runs/ndz3g494</a>"
      ],
      "text/plain": [
       "<IPython.core.display.HTML object>"
      ]
     },
     "metadata": {},
     "output_type": "display_data"
    },
    {
     "name": "stderr",
     "output_type": "stream",
     "text": [
      "\u001b[34m\u001b[1mwandb\u001b[0m:   1 of 1 files downloaded.  \n"
     ]
    }
   ],
   "source": [
    "import wandb\n",
    "run = wandb.init()\n",
    "artifact = run.use_artifact('bryars-bryars/cbow-wiki/embeddings:v4', type='embeddings')\n",
    "artifact = run.use_artifact('bryars-bryars/cbow-wiki/model-weights:v6', type='model')\n",
    "artifact_dir = artifact.download()"
   ]
  },
  {
   "cell_type": "code",
   "execution_count": 10,
   "metadata": {},
   "outputs": [],
   "source": [
    "import torch\n",
    "from eve_cbow_model import CBOW"
   ]
  },
  {
   "cell_type": "code",
   "execution_count": null,
   "metadata": {},
   "outputs": [],
   "source": [
    "# Load CBOW model\n",
    "cbow = CBOW(vocab_size=30000, embedding_dim=200)\n",
    "cbow.load_state_dict(torch.load(f\"{artifact_dir}/model-weights:v6/cbow_epoch5_2025_04_17__15_28_43.pt\"))\n",
    "cbow.eval()\n",
    "\n",
    "# Load embeddings if needed\n",
    "cbow.embedding.weight.data = torch.load(f\"{artifact_dir}/embeddings:v4/embeddings_epoch5_2025_04_17__15_28_43.pt\")\n",
    "\n",
    "# Setup regressor\n",
    "mReg = Regressor(embedding_dim=128)\n",
    "optimizer = torch.optim.Adam(mReg.parameters(), lr=0.005)\n",
    "\n",
    "# Training loop\n",
    "for i in range(100):\n",
    "    trg = torch.tensor([[125.]], dtype=torch.float32)\n",
    "    ipt = torch.tensor([[45, 27, 45367, 456]])\n",
    "\n",
    "    with torch.no_grad():\n",
    "        emb = cbow.embedding(ipt).mean(dim=1)\n",
    "\n",
    "    out = mReg(emb)\n",
    "    loss = torch.nn.functional.l1_loss(out, trg)\n",
    "\n",
    "    loss.backward()\n",
    "    optimizer.step()\n",
    "    optimizer.zero_grad()\n",
    "\n",
    "    wandb.log({'regression_loss': loss.item()})\n",
    "    print(f\"Step {i}: Loss = {loss.item():.4f}\")\n"
   ]
  }
 ],
 "metadata": {
  "kernelspec": {
   "display_name": "venv",
   "language": "python",
   "name": "python3"
  },
  "language_info": {
   "codemirror_mode": {
    "name": "ipython",
    "version": 3
   },
   "file_extension": ".py",
   "mimetype": "text/x-python",
   "name": "python",
   "nbconvert_exporter": "python",
   "pygments_lexer": "ipython3",
   "version": "3.10.12"
  }
 },
 "nbformat": 4,
 "nbformat_minor": 2
}
