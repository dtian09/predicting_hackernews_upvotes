{
 "cells": [
  {
   "cell_type": "code",
   "execution_count": null,
   "metadata": {},
   "outputs": [],
   "source": [
    "from collections import Counter\n",
    "import re\n",
    "def tokenizer(text):\n",
    "    # split the string into a list of words by whitespace and remove punctuation\n",
    "    text_no_punctuation = re.sub(r'[^\\w\\s]', ' ', text)\n",
    "    list_of_words = text_no_punctuation.split()\n",
    "\n",
    "    # lower case the words\n",
    "    lower_case_words = [word.lower() for word in list_of_words]\n",
    "\n",
    "    # get the unique words using set list\n",
    "    unique_words = list(set(lower_case_words))\n",
    "\n",
    "    # this is much faster than the dictionary comprehension with count()\n",
    "    all_word_counts = Counter(lower_case_words)\n",
    "\n",
    "\n",
    "    # Build the vocabulary\n",
    "    # Keep only the top 30000 most frequent words\n",
    "\n",
    "    corpus = list(unique_word_counts.keys())\n",
    "\n",
    "    print('Number of unique words included in word count before filtering: ', len(all_word_counts))\n",
    "    print('Number of unique words included in word count after filtering: ', len(unique_word_counts))\n",
    "\n",
    "\n",
    "    # set vocabulary length to the total number of unique words\n",
    "    vocab_length = len(unique_word_counts)\n",
    "\n",
    "    # create a word to id mapping with the length of ids being the vocab length\n",
    "    word_to_id = {word: i for i, word in enumerate(unique_word_counts.keys())}\n",
    "\n",
    "    # create a id to word mapping with the length of ids being the vocab length\n",
    "    id_to_word = {i: word for i, word in enumerate(unique_word_counts.keys())}\n",
    "\n",
    "    return word_to_id, id_to_word, corpus, unique_word_counts\n",
    "\n",
    "\n",
    "\n",
    "\n",
    "# Check the function is working\n",
    "word_to_id, id_to_word, corpus, unique_word_counts = tokenizer(text)\n",
    "print(\"Tokenisation complete\")\n"
   ]
  }
 ],
 "metadata": {
  "language_info": {
   "name": "python"
  }
 },
 "nbformat": 4,
 "nbformat_minor": 2
}
